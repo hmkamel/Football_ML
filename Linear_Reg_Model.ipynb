{
 "cells": [
  {
   "cell_type": "code",
   "execution_count": 8,
   "metadata": {},
   "outputs": [],
   "source": [
    "import pandas as pd\n",
    "import sklearn as sk\n",
    "import seaborn as sns\n",
    "import matplotlib as plt\n",
    "import numpy as np"
   ]
  },
  {
   "cell_type": "code",
   "execution_count": 2,
   "metadata": {},
   "outputs": [],
   "source": [
    "dataset = pd.read_csv('matches_with_stats.csv')"
   ]
  },
  {
   "cell_type": "markdown",
   "metadata": {},
   "source": [
    "Setting 'y' dependant variable predictions to the Win Lose or Tie column and encoding it where home_win = 1 else if its a loss or draw then 0"
   ]
  },
  {
   "cell_type": "code",
   "execution_count": 14,
   "metadata": {},
   "outputs": [],
   "source": [
    "y = dataset.iloc[:, 13].values\n",
    "y = np.where(y == 'home_win',1,0)"
   ]
  },
  {
   "cell_type": "markdown",
   "metadata": {},
   "source": [
    "Setting my X variable to all the features that I have imported minus the xG (expected stats) that the site generates because I want to deal with\n",
    "actual data facts and not with expectations that 3rd parties calculate."
   ]
  },
  {
   "cell_type": "code",
   "execution_count": 25,
   "metadata": {},
   "outputs": [
    {
     "name": "stdout",
     "output_type": "stream",
     "text": [
      "1829\n",
      "1829\n"
     ]
    }
   ],
   "source": [
    "feature_cols = [15,16,17,18,19,20,21,22,23,24,25,26,27,28,29,47,48,49,50,51,52,53,54,55,56\n",
    "                ,57,58,59,60,61,79,80,81,82,83,84,85,86,87,88,89,90,91,92,99,100,101,102,103,104,105,106,107,108,109,110,111,112]\n",
    "X = dataset.iloc[:, feature_cols]\n",
    "print(len(X))\n",
    "print(len(y))"
   ]
  },
  {
   "cell_type": "code",
   "execution_count": 38,
   "metadata": {},
   "outputs": [
    {
     "name": "stdout",
     "output_type": "stream",
     "text": [
      "<class 'pandas.core.frame.DataFrame'>\n"
     ]
    }
   ],
   "source": [
    "y_df = np.array(y)\n",
    "\n",
    "X_df = np.array(X)  # Convert X to DataFrame if necessary\n",
    "sns.pairplot(data=pd.concat([X_df, y_df.rename('Target_Variable')], axis=1), x_vars=X_df.columns, y_vars=\"Target_Variable\")\n",
    "plt.show()\n",
    "\n",
    "print(type(y_df))"
   ]
  }
 ],
 "metadata": {
  "kernelspec": {
   "display_name": ".venv",
   "language": "python",
   "name": "python3"
  },
  "language_info": {
   "codemirror_mode": {
    "name": "ipython",
    "version": 3
   },
   "file_extension": ".py",
   "mimetype": "text/x-python",
   "name": "python",
   "nbconvert_exporter": "python",
   "pygments_lexer": "ipython3",
   "version": "3.12.4"
  }
 },
 "nbformat": 4,
 "nbformat_minor": 2
}
